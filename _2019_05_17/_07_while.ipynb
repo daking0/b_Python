{
 "cells": [
  {
   "cell_type": "markdown",
   "metadata": {},
   "source": [
    "# while문\n",
    "- 조건이 True일 경우 반복을 수행하고  \n",
    "False의 조건일 때 종료한다"
   ]
  },
  {
   "cell_type": "code",
   "execution_count": null,
   "metadata": {},
   "outputs": [],
   "source": [
    "treeHit = 0\n",
    "while treeHit < 10:\n",
    "    treeHit = treeHit +1\n",
    "    print(\"나무를 %d번 찍습니다\" % treeHit)"
   ]
  },
  {
   "cell_type": "code",
   "execution_count": null,
   "metadata": {},
   "outputs": [],
   "source": [
    "treeHit = 0 # 나무를 찍은 회수\n",
    "countTree = 0 # 나무를 벌목한 그루 개수\n",
    "while True:\n",
    "    treeHit = treeHit + 1\n",
    "    print(\"나무를 %d번 찍습니다\" %treeHit)\n",
    "    if treeHit % 10 == 0:\n",
    "        print(\"나무가 넘어갑니다\")\n",
    "        countTree = countTree +1\n",
    "    if countTree == 10:\n",
    "        break\n",
    "        \n",
    "print(\"***나무를 %d그루 하였습니다***\" %countTree)"
   ]
  },
  {
   "cell_type": "code",
   "execution_count": null,
   "metadata": {},
   "outputs": [],
   "source": [
    "prompt = \"\"\"  \n",
    "    1.Add\n",
    "    2.Del\n",
    "    3.List\n",
    "    4.Quit\n",
    "    \n",
    "    Enter Number:\n",
    "\"\"\"\n",
    "\n",
    "number = 0\n",
    "while number != 4:\n",
    "    print(prompt)\n",
    "    number = (int)(input())\n",
    "    "
   ]
  },
  {
   "cell_type": "code",
   "execution_count": null,
   "metadata": {},
   "outputs": [],
   "source": [
    "coffee = 10\n",
    "while True:\n",
    "    money = int(input(\"돈을 넣어 주세요: \"))\n",
    "    if money == 300:\n",
    "        print(\"커피를 줍니다\")\n",
    "        coffee = coffee - 1\n",
    "    elif money > 300:\n",
    "        print(\"거스름돈 %d를 주고 커피를 줍니다\" %(money - 300))\n",
    "        coffee = coffee -1\n",
    "    else:\n",
    "        print(\"돈을 다시 돌려주고 커피를 주지 않습니다\")\n",
    "        print(\"남은 커피의 양은 %d개 입니다.\" % coffee)\n",
    "    if not coffee :\n",
    "        print(\"커피가 다 떨어졌습니다. 판매를 중지합니다\")\n",
    "        break"
   ]
  },
  {
   "cell_type": "code",
   "execution_count": 4,
   "metadata": {},
   "outputs": [
    {
     "name": "stdout",
     "output_type": "stream",
     "text": [
      "3 x 3 = 9\n",
      "3 x 5 = 9\n",
      "3 x 7 = 9\n",
      "3 x 9 = 9\n"
     ]
    }
   ],
   "source": [
    "num = 3\n",
    "num1 = 1\n",
    "while num1 <= 9:\n",
    "    num1 = num1 +1\n",
    "    if num1 %2 == 0:\n",
    "        continue\n",
    "    print(\"%d x %d = %d\"% (num, num1,num*num))"
   ]
  },
  {
   "cell_type": "code",
   "execution_count": null,
   "metadata": {},
   "outputs": [],
   "source": []
  },
  {
   "cell_type": "code",
   "execution_count": null,
   "metadata": {},
   "outputs": [],
   "source": []
  }
 ],
 "metadata": {
  "kernelspec": {
   "display_name": "Python 3",
   "language": "python",
   "name": "python3"
  },
  "language_info": {
   "codemirror_mode": {
    "name": "ipython",
    "version": 3
   },
   "file_extension": ".py",
   "mimetype": "text/x-python",
   "name": "python",
   "nbconvert_exporter": "python",
   "pygments_lexer": "ipython3",
   "version": "3.7.3"
  }
 },
 "nbformat": 4,
 "nbformat_minor": 2
}
